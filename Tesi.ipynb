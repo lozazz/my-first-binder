{
 "cells": [
  {
   "cell_type": "code",
   "execution_count": 20,
   "id": "626fe802",
   "metadata": {},
   "outputs": [],
   "source": [
    "import pandas as pd\n",
    "import json"
   ]
  },
  {
   "cell_type": "code",
   "execution_count": 21,
   "id": "957d5c29",
   "metadata": {},
   "outputs": [],
   "source": [
    "df=pd.read_csv(\"museum_users.csv\")"
   ]
  },
  {
   "cell_type": "code",
   "execution_count": 22,
   "id": "cf8b7e75",
   "metadata": {},
   "outputs": [],
   "source": [
    "df_name_prog= df[['name','progress']].dropna()\n",
    "df_name_prog['progress'] = df_name_prog.progress.apply(json.loads).values.tolist()"
   ]
  },
  {
   "cell_type": "code",
   "execution_count": 23,
   "id": "3d05cc6e",
   "metadata": {},
   "outputs": [],
   "source": [
    "def find_name_id_key(key, df_name_prog):\n",
    "    names=[]\n",
    "    keys=[]\n",
    "    ids=[]\n",
    "    for i in df_name_prog.index:\n",
    "        for a in df_name_prog['progress'][i]:\n",
    "            for k, v in a.items():\n",
    "                if k == key:\n",
    "                    names.append(df_name_prog['name'][i])\n",
    "                    ids.append(a['ID'])\n",
    "                    keys.append(v)  \n",
    "    df_tmp = pd.DataFrame(list(zip(names, ids,keys)),columns =['name','id', key])\n",
    "    df_tmp[key] = df_tmp[key].astype(float)\n",
    "    return df_tmp"
   ]
  },
  {
   "cell_type": "code",
   "execution_count": 24,
   "id": "736d8cb7",
   "metadata": {},
   "outputs": [],
   "source": [
    "df_tmp=find_name_id_key('time', df_name_prog)"
   ]
  },
  {
   "cell_type": "code",
   "execution_count": 25,
   "id": "6ef7c2f8",
   "metadata": {},
   "outputs": [],
   "source": [
    "sum_per_user=df_tmp.groupby(['name']).sum()"
   ]
  },
  {
   "cell_type": "code",
   "execution_count": 26,
   "id": "35606a31",
   "metadata": {},
   "outputs": [],
   "source": [
    "mean_per_user=df_tmp.groupby(['name']).mean()"
   ]
  },
  {
   "cell_type": "code",
   "execution_count": 27,
   "id": "1654a00f",
   "metadata": {},
   "outputs": [],
   "source": [
    "sum_per_id=df_tmp.groupby(['id']).sum()"
   ]
  },
  {
   "cell_type": "code",
   "execution_count": 28,
   "id": "d0668351",
   "metadata": {},
   "outputs": [],
   "source": [
    "mean_per_id=df_tmp.groupby(['id']).mean()"
   ]
  },
  {
   "cell_type": "code",
   "execution_count": 29,
   "id": "81d2f9ce",
   "metadata": {},
   "outputs": [],
   "source": [
    "def find_animals(df_name_prog):\n",
    "    names_animals=[]\n",
    "    scores=[]\n",
    "\n",
    "    for i in df_name_prog.index:\n",
    "        for a in df_name_prog['progress'][i]:\n",
    "            for k, v in a.items():\n",
    "                if k != 'ID' and  k != 'time':\n",
    "                    names_animals.append(k)\n",
    "                    scores.append(v)\n",
    "    df_tmp1 = pd.DataFrame(list(zip(names_animals, scores)),columns =['name_animal','score'])\n",
    "    df_tmp1['score'] = df_tmp1['score'].astype(int)\n",
    "    return df_tmp1"
   ]
  },
  {
   "cell_type": "code",
   "execution_count": 30,
   "id": "a7ed3f6d",
   "metadata": {},
   "outputs": [],
   "source": [
    "df_tmp_animals=find_animals( df_name_prog)"
   ]
  },
  {
   "cell_type": "code",
   "execution_count": 31,
   "id": "b366673d",
   "metadata": {},
   "outputs": [],
   "source": [
    "sum_per_animals=df_tmp_animals.groupby(['name_animal']).sum()"
   ]
  },
  {
   "cell_type": "code",
   "execution_count": 32,
   "id": "888084f6",
   "metadata": {},
   "outputs": [],
   "source": [
    "mean_per_animals=df_tmp_animals.groupby(['name_animal']).mean()"
   ]
  },
  {
   "cell_type": "markdown",
   "id": "664ac341",
   "metadata": {},
   "source": [
    "# Grafici"
   ]
  },
  {
   "cell_type": "markdown",
   "id": "8e86ae6f",
   "metadata": {},
   "source": [
    "## Ripartizione dei punteggi "
   ]
  },
  {
   "cell_type": "markdown",
   "id": "005b197a",
   "metadata": {},
   "source": [
    "> Nel seguente grafico a torta viene mostrata la divisione dei punteggi nelle varie categorie (orso,giraffa,volpe,ecc...)"
   ]
  },
  {
   "cell_type": "code",
   "execution_count": 33,
   "id": "149fdce1",
   "metadata": {
    "scrolled": false
   },
   "outputs": [
    {
     "data": {
      "image/png": "[encoded data removed]",
      "text/plain": [
       "<Figure size 360x360 with 1 Axes>"
      ]
     },
     "metadata": {},
     "output_type": "display_data"
    }
   ],
   "source": [
    "score_pie = mean_per_animals.plot.pie(y='score', figsize=(5, 5), autopct='%1.1f%%')"
   ]
  },
  {
   "cell_type": "markdown",
   "id": "4a414482",
   "metadata": {},
   "source": [
    "##  Tempo impiegato nelle stanze\n"
   ]
  },
  {
   "cell_type": "markdown",
   "id": "f9ad7245",
   "metadata": {},
   "source": [
    ">Nel seguente grafico a torta viene mostrato quanto tempo viene impiegato (in percentuale) in ciascun gioco rispetto al tempo di gioco totale\n"
   ]
  },
  {
   "cell_type": "code",
   "execution_count": 34,
   "id": "c14995f1",
   "metadata": {
    "scrolled": true
   },
   "outputs": [
    {
     "data": {
      "text/plain": [
       "<AxesSubplot:ylabel='time'>"
      ]
     },
     "execution_count": 34,
     "metadata": {},
     "output_type": "execute_result"
    },
    {
     "data": {
      "image/png": "[encoded data removed]",
      "text/plain": [
       "<Figure size 360x360 with 1 Axes>"
      ]
     },
     "metadata": {},
     "output_type": "display_data"
    }
   ],
   "source": [
    "mean_per_id.plot.pie(y='time', figsize=(5, 5), autopct='%1.1f%%')"
   ]
  },
  {
   "cell_type": "markdown",
   "id": "2531e4a2",
   "metadata": {},
   "source": [
    "## Boxplot dei tempi per gioco"
   ]
  },
  {
   "cell_type": "markdown",
   "id": "5fcc7573",
   "metadata": {},
   "source": [
    "> Questo diagramma è una rappresentazione grafica utilizzata per descrivere la distribuzione di un campione tramite indici di dispersione e di posizione. Il rettangolo, diviso in due parti da cui escono due segmenti, è delimitato dal primo e dal terzo quartile, q1/4 e q3/4, e diviso al suo interno dalla mediana, q1/2. I segmenti sono delimitati dal minimo e dal massimo dei valori ( outliers, i punti separati, esclusi). In questo caso sono stati raggruppati i tempi impiegati all'interno di ogni stanza.  "
   ]
  },
  {
   "cell_type": "code",
   "execution_count": 35,
   "id": "56b0760e",
   "metadata": {
    "scrolled": true
   },
   "outputs": [
    {
     "data": {
      "text/plain": [
       "<AxesSubplot:title={'center':'time'}, xlabel='id'>"
      ]
     },
     "execution_count": 35,
     "metadata": {},
     "output_type": "execute_result"
    },
    {
     "data": {
      "image/png": "[encoded data removed]",
      "text/plain": [
       "<Figure size 432x288 with 1 Axes>"
      ]
     },
     "metadata": {
      "needs_background": "light"
     },
     "output_type": "display_data"
    }
   ],
   "source": [
    "df_tmp.boxplot(\"time\", by=\"id\")"
   ]
  },
  {
   "cell_type": "markdown",
   "id": "7f1e4060",
   "metadata": {},
   "source": [
    "## Boxplot del tempo per utente"
   ]
  },
  {
   "cell_type": "markdown",
   "id": "a8283a45",
   "metadata": {},
   "source": [
    "> In questo diagramma viene rappresentata graficamente la distribuzione dei tempoi di un dato utente. Può essere modificato a piacimento sostituendo il nome nel blocco seguente ( nell'esempio \"carlo\")."
   ]
  },
  {
   "cell_type": "code",
   "execution_count": 36,
   "id": "58dab6dc",
   "metadata": {
    "scrolled": false
   },
   "outputs": [
    {
     "data": {
      "image/png": "[encoded data removed]",
      "text/plain": [
       "<Figure size 432x288 with 1 Axes>"
      ]
     },
     "metadata": {
      "needs_background": "light"
     },
     "output_type": "display_data"
    }
   ],
   "source": [
    "box = df_tmp[df_tmp.name==\"carlo\"].boxplot(\"time\", by=\"name\")\n",
    "box.legend([\"time (s)\"]);"
   ]
  },
  {
   "cell_type": "markdown",
   "id": "ff01e788",
   "metadata": {},
   "source": [
    "## Tempi totali degli utenti"
   ]
  },
  {
   "cell_type": "markdown",
   "id": "95b81391",
   "metadata": {},
   "source": [
    "> È un grafico, che presenta dati quantitativi, a barre orizzontali  di lunghezza proporzionale ai valori che rappresentano. In questo caso sono indicati i tempi per svolgere tutti i giochi divisi per utente. "
   ]
  },
  {
   "cell_type": "code",
   "execution_count": 37,
   "id": "dbd0f658",
   "metadata": {},
   "outputs": [
    {
     "data": {
      "image/png": "[encoded data removed]",
      "text/plain": [
       "<Figure size 432x288 with 1 Axes>"
      ]
     },
     "metadata": {
      "needs_background": "light"
     },
     "output_type": "display_data"
    }
   ],
   "source": [
    "mean = mean_per_user.plot.barh()\n",
    "mean.legend([\"time (s)\"]);"
   ]
  },
  {
   "cell_type": "code",
   "execution_count": null,
   "id": "b1dc93c1",
   "metadata": {},
   "outputs": [],
   "source": []
  },
  {
   "cell_type": "code",
   "execution_count": null,
   "id": "66eee930",
   "metadata": {},
   "outputs": [],
   "source": []
  }
 ],
 "metadata": {
  "kernelspec": {
   "display_name": "Python 3",
   "language": "python",
   "name": "python3"
  },
  "language_info": {
   "codemirror_mode": {
    "name": "ipython",
    "version": 3
   },
   "file_extension": ".py",
   "mimetype": "text/x-python",
   "name": "python",
   "nbconvert_exporter": "python",
   "pygments_lexer": "ipython3",
   "version": "3.8.8"
  }
 },
 "nbformat": 4,
 "nbformat_minor": 5
}
